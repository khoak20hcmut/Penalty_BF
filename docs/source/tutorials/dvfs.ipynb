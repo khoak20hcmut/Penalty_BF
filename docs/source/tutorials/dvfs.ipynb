{
 "cells": [
  {
   "cell_type": "markdown",
   "metadata": {},
   "source": [
    "# DVFS"
   ]
  },
  {
   "cell_type": "markdown",
   "metadata": {},
   "source": [
    "Dynamic Voltage Frequency Scaling (DVFS) policies can be deployed to optimize the energy consumption of underutilized resources. Such technique can scale down the processor frequency based on its usage pattern to allow energy savings when jobs are not executing computation intensive tasks.\n",
    "\n",
    "This tutorial can be used to understand how DVFS policies can be implemented with batsim-py. "
   ]
  },
  {
   "cell_type": "raw",
   "metadata": {
    "raw_mimetype": "text/restructuredtext"
   },
   "source": [
    ".. todo::\n",
    "    Write tutorial about implementing DVFS policies.\n"
   ]
  }
 ],
 "metadata": {
  "celltoolbar": "Raw Cell Format",
  "kernelspec": {
   "display_name": "Python 3",
   "language": "python",
   "name": "python3"
  },
  "language_info": {
   "codemirror_mode": {
    "name": "ipython",
    "version": 3
   },
   "file_extension": ".py",
   "mimetype": "text/x-python",
   "name": "python",
   "nbconvert_exporter": "python",
   "pygments_lexer": "ipython3",
   "version": "3.8.1"
  }
 },
 "nbformat": 4,
 "nbformat_minor": 4
}
