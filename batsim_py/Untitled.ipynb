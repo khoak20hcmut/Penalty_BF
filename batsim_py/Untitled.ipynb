{
 "cells": [
  {
   "cell_type": "code",
   "execution_count": 5,
   "id": "32be3cdd",
   "metadata": {},
   "outputs": [],
   "source": [
    "from simulator import SimulatorHandler"
   ]
  },
  {
   "cell_type": "code",
   "execution_count": 6,
   "id": "27f0be23",
   "metadata": {},
   "outputs": [],
   "source": [
    "class FCFSScheduler:\n",
    "    def __init__(self, simulator: SimulatorHandler) -> None:\n",
    "        self.simulator = simulator\n",
    "\n",
    "    def __str__(self) -> str:\n",
    "        return \"FCFS\"\n",
    "\n",
    "    def schedule(self) -> None:\n",
    "        \"\"\"  First Come First Served policy \"\"\"\n",
    "        assert self.simulator.is_running\n",
    "\n",
    "        for job in self.simulator.queue:\n",
    "            available = self.simulator.platform.get_not_allocated_hosts()\n",
    "\n",
    "            if job.res <= len(available):\n",
    "                # Schedule if the job can start now.\n",
    "                allocation = [h.id for h in available[:job.res]]\n",
    "                self.simulator.allocate(job.id, allocation)\n",
    "            else:\n",
    "                # Otherwise, wait for resources.\n",
    "                break"
   ]
  },
  {
   "cell_type": "code",
   "execution_count": 7,
   "id": "062f75ae",
   "metadata": {},
   "outputs": [],
   "source": [
    "class EASYScheduler(FCFSScheduler):\n",
    "    def __str__(self) -> str:\n",
    "        return \"EASY\"\n",
    "\n",
    "    def schedule(self) -> None:\n",
    "        super().schedule() # Schedule with FCFS\n",
    "\n",
    "        # Apply the backfilling mechanism\n",
    "        if len(self.simulator.queue) >= 2:\n",
    "            self.backfill()\n",
    "\n",
    "    def backfill(self) -> None:\n",
    "        assert len(self.simulator.queue) >= 2\n",
    "\n",
    "        # The priority job is the first job in the queue.\n",
    "        p_job = self.simulator.queue[0]\n",
    "\n",
    "        # The remaining jobs can be scheduled if they do not delay p_job.\n",
    "        backfilling_queue = self.simulator.queue[1:]\n",
    "\n",
    "        # Get the next expected releases\n",
    "        next_releases = sorted(self.simulator.agenda, key=lambda a: a.release_time)\n",
    "\n",
    "        # Get the last required host for p_job.\n",
    "        last_host = next_releases[p_job.res - 1]\n",
    "\n",
    "        # The last host release time will be the p_job expected start time.\n",
    "        p_start_t = last_host.release_time\n",
    "\n",
    "        # Find candidates and reserve resources for p_job.\n",
    "        candidates = [r.host.id for r in next_releases if r.release_time <= p_start_t]\n",
    "\n",
    "        # Try to maximize the number of hosts available for the remaining queue.\n",
    "        reservation = candidates[-p_job.res:]\n",
    "\n",
    "        # Let's try to start some jobs earlier.\n",
    "        for job in backfilling_queue:\n",
    "            available = self.simulator.platform.get_not_allocated_hosts()  # Hosts\n",
    "            not_reserved = [h for h in available if h.id not in reservation]\n",
    "\n",
    "            if job.res <= len(not_reserved):\n",
    "                # Schedule job on not reserved hosts.\n",
    "                allocation = [h.id for h in not_reserved[:job.res]]\n",
    "                self.simulator.allocate(job.id, allocation)\n",
    "            elif job.walltime and job.walltime <= p_start_t and job.res <= len(available):\n",
    "                # Schedule job on reserved hosts without delaying p_job.\n",
    "                allocation = [h.id for h in available[:job.res]]\n",
    "                self.simulator.allocate(job.id, allocation)"
   ]
  },
  {
   "cell_type": "code",
   "execution_count": 12,
   "id": "8d16d450",
   "metadata": {},
   "outputs": [
    {
     "ename": "ImportError",
     "evalue": "(HINT: you need to install Batsim. Check the setup instructions here: https://batsim.readthedocs.io/en/latest/.). Run \"batsim --version\" to make sure it is working.",
     "output_type": "error",
     "traceback": [
      "\u001b[1;31m---------------------------------------------------------------------------\u001b[0m",
      "\u001b[1;31mImportError\u001b[0m                               Traceback (most recent call last)",
      "Input \u001b[1;32mIn [12]\u001b[0m, in \u001b[0;36m<module>\u001b[1;34m\u001b[0m\n\u001b[0;32m     20\u001b[0m     \u001b[38;5;66;03m# 4) Return/Dump statistics\u001b[39;00m\n\u001b[0;32m     21\u001b[0m     \u001b[38;5;28;01mreturn\u001b[39;00m jobs_mon, sim_mon\n\u001b[1;32m---> 23\u001b[0m jobs_f, sim_f \u001b[38;5;241m=\u001b[39m \u001b[43mrun_simulation\u001b[49m\u001b[43m(\u001b[49m\u001b[43mFCFSScheduler\u001b[49m\u001b[43m)\u001b[49m\n\u001b[0;32m     24\u001b[0m jobs_e, sim_e \u001b[38;5;241m=\u001b[39m run_simulation(EASYScheduler)\n",
      "Input \u001b[1;32mIn [12]\u001b[0m, in \u001b[0;36mrun_simulation\u001b[1;34m(scheduler)\u001b[0m\n\u001b[0;32m      1\u001b[0m \u001b[38;5;28;01mdef\u001b[39;00m \u001b[38;5;21mrun_simulation\u001b[39m(scheduler):\n\u001b[1;32m----> 2\u001b[0m     simulator \u001b[38;5;241m=\u001b[39m \u001b[43mSimulatorHandler\u001b[49m\u001b[43m(\u001b[49m\u001b[43m)\u001b[49m\n\u001b[0;32m      3\u001b[0m     scheduler \u001b[38;5;241m=\u001b[39m scheduler(simulator)\n\u001b[0;32m      5\u001b[0m     \u001b[38;5;66;03m# 1) Instantiate monitors to collect simulation statistics\u001b[39;00m\n",
      "File \u001b[1;32m~\\batsim-py\\batsim_py\\simulator.py:95\u001b[0m, in \u001b[0;36mSimulatorHandler.__init__\u001b[1;34m(self, tcp_address)\u001b[0m\n\u001b[0;32m     93\u001b[0m \u001b[38;5;28;01mdef\u001b[39;00m \u001b[38;5;21m__init__\u001b[39m(\u001b[38;5;28mself\u001b[39m, tcp_address: Optional[\u001b[38;5;28mstr\u001b[39m] \u001b[38;5;241m=\u001b[39m \u001b[38;5;28;01mNone\u001b[39;00m) \u001b[38;5;241m-\u001b[39m\u001b[38;5;241m>\u001b[39m \u001b[38;5;28;01mNone\u001b[39;00m:\n\u001b[0;32m     94\u001b[0m     \u001b[38;5;28;01mif\u001b[39;00m which(\u001b[38;5;124m'\u001b[39m\u001b[38;5;124mbatsim\u001b[39m\u001b[38;5;124m'\u001b[39m) \u001b[38;5;129;01mis\u001b[39;00m \u001b[38;5;28;01mNone\u001b[39;00m:\n\u001b[1;32m---> 95\u001b[0m         \u001b[38;5;28;01mraise\u001b[39;00m \u001b[38;5;167;01mImportError\u001b[39;00m(\u001b[38;5;124m'\u001b[39m\u001b[38;5;124m(HINT: you need to install Batsim. \u001b[39m\u001b[38;5;124m'\u001b[39m\n\u001b[0;32m     96\u001b[0m                           \u001b[38;5;124m'\u001b[39m\u001b[38;5;124mCheck the setup instructions here: \u001b[39m\u001b[38;5;124m'\u001b[39m\n\u001b[0;32m     97\u001b[0m                           \u001b[38;5;124m'\u001b[39m\u001b[38;5;124mhttps://batsim.readthedocs.io/en/latest/.). \u001b[39m\u001b[38;5;124m'\u001b[39m\n\u001b[0;32m     98\u001b[0m                           \u001b[38;5;124m'\u001b[39m\u001b[38;5;124mRun \u001b[39m\u001b[38;5;124m\"\u001b[39m\u001b[38;5;124mbatsim --version\u001b[39m\u001b[38;5;124m\"\u001b[39m\u001b[38;5;124m to make sure it is working.\u001b[39m\u001b[38;5;124m'\u001b[39m)\n\u001b[0;32m     99\u001b[0m     \u001b[38;5;28mself\u001b[39m\u001b[38;5;241m.\u001b[39m__network \u001b[38;5;241m=\u001b[39m NetworkHandler(tcp_address \u001b[38;5;129;01mor\u001b[39;00m get_free_tcp_address())\n\u001b[0;32m    100\u001b[0m     \u001b[38;5;28mself\u001b[39m\u001b[38;5;241m.\u001b[39m__current_time: \u001b[38;5;28mfloat\u001b[39m \u001b[38;5;241m=\u001b[39m \u001b[38;5;241m0.\u001b[39m\n",
      "\u001b[1;31mImportError\u001b[0m: (HINT: you need to install Batsim. Check the setup instructions here: https://batsim.readthedocs.io/en/latest/.). Run \"batsim --version\" to make sure it is working."
     ]
    }
   ],
   "source": [
    "def run_simulation(scheduler):\n",
    "    simulator = SimulatorHandler()\n",
    "    scheduler = scheduler(simulator)\n",
    "\n",
    "    # 1) Instantiate monitors to collect simulation statistics\n",
    "    jobs_mon = JobMonitor(simulator)\n",
    "    sim_mon = SimulationMonitor(simulator)\n",
    "\n",
    "    # 2) Start simulation\n",
    "    simulator.start(platform=\"platforms/hosts_2.xml\",\n",
    "                    workload=\"workloads/comp_4.json\",\n",
    "                    verbosity=\"information\")\n",
    "\n",
    "    # 3) Schedule all jobs\n",
    "    while simulator.is_running:\n",
    "        scheduler.schedule()\n",
    "        simulator.proceed_time()  # proceed directly to the next event.\n",
    "    simulator.close()\n",
    "\n",
    "    # 4) Return/Dump statistics\n",
    "    return jobs_mon, sim_mon\n",
    "\n",
    "jobs_f, sim_f = run_simulation(FCFSScheduler)\n",
    "jobs_e, sim_e = run_simulation(EASYScheduler)"
   ]
  },
  {
   "cell_type": "code",
   "execution_count": 11,
   "id": "917a34b8",
   "metadata": {},
   "outputs": [],
   "source": [
    "from monitors import JobMonitor, SimulationMonitor"
   ]
  },
  {
   "cell_type": "code",
   "execution_count": null,
   "id": "53f99b36",
   "metadata": {},
   "outputs": [],
   "source": []
  }
 ],
 "metadata": {
  "kernelspec": {
   "display_name": "Python 3 (ipykernel)",
   "language": "python",
   "name": "python3"
  },
  "language_info": {
   "codemirror_mode": {
    "name": "ipython",
    "version": 3
   },
   "file_extension": ".py",
   "mimetype": "text/x-python",
   "name": "python",
   "nbconvert_exporter": "python",
   "pygments_lexer": "ipython3",
   "version": "3.10.2"
  }
 },
 "nbformat": 4,
 "nbformat_minor": 5
}
